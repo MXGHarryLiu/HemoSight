{
 "cells": [
  {
   "cell_type": "code",
   "execution_count": 1,
   "metadata": {},
   "outputs": [
    {
     "name": "stdout",
     "output_type": "stream",
     "text": [
      "Debug mode is on. Using settings_ThinkPadP16.json.\n",
      "Split 23044 images to 20739 train and 2305 test images\n",
      "Split 20739 images to 16591 train and 4148 validation images\n"
     ]
    }
   ],
   "source": [
    "import sys\n",
    "sys.path.append('../')\n",
    "import os\n",
    "from model.loader import Loader\n",
    "from core.util import GlobalSettings\n",
    "\n",
    "gs = GlobalSettings()\n",
    "gs.debug = True\n",
    "\n",
    "opt = {'file_list': os.path.join(gs.get('data_folder'), '20230926_DIB.csv'), \n",
    "       'split_seed': 0, \n",
    "       'test_ratio': 0.1, \n",
    "       'kfold': 5, \n",
    "       'i_kfold': 0}\n",
    "loader = Loader()\n",
    "loader.load(file_list=opt['file_list'])\n",
    "loader.split(split_seed=opt['split_seed'], \n",
    "              test_ratio=opt['test_ratio'], \n",
    "              kfold=opt['kfold'], \n",
    "              i_kfold=opt['i_kfold'])"
   ]
  },
  {
   "cell_type": "code",
   "execution_count": 2,
   "metadata": {},
   "outputs": [
    {
     "data": {
      "text/html": [
       "<div>\n",
       "<style scoped>\n",
       "    .dataframe tbody tr th:only-of-type {\n",
       "        vertical-align: middle;\n",
       "    }\n",
       "\n",
       "    .dataframe tbody tr th {\n",
       "        vertical-align: top;\n",
       "    }\n",
       "\n",
       "    .dataframe thead th {\n",
       "        text-align: right;\n",
       "    }\n",
       "</style>\n",
       "<table border=\"1\" class=\"dataframe\">\n",
       "  <thead>\n",
       "    <tr style=\"text-align: right;\">\n",
       "      <th></th>\n",
       "      <th>rel_path</th>\n",
       "      <th>img_name</th>\n",
       "      <th>label</th>\n",
       "      <th>path</th>\n",
       "    </tr>\n",
       "  </thead>\n",
       "  <tbody>\n",
       "    <tr>\n",
       "      <th>17590</th>\n",
       "      <td>PBC_dataset_normal_DIB/neutrophil/SNE_394622.jpg</td>\n",
       "      <td>SNE_394622</td>\n",
       "      <td>neutrophil</td>\n",
       "      <td>D:/Drive/Data/Hematology\\PBC_dataset_normal_DI...</td>\n",
       "    </tr>\n",
       "  </tbody>\n",
       "</table>\n",
       "</div>"
      ],
      "text/plain": [
       "                                               rel_path    img_name  \\\n",
       "17590  PBC_dataset_normal_DIB/neutrophil/SNE_394622.jpg  SNE_394622   \n",
       "\n",
       "            label                                               path  \n",
       "17590  neutrophil  D:/Drive/Data/Hematology\\PBC_dataset_normal_DI...  "
      ]
     },
     "execution_count": 2,
     "metadata": {},
     "output_type": "execute_result"
    }
   ],
   "source": [
    "train_df = loader.train_df\n",
    "train_df.head(1)"
   ]
  },
  {
   "cell_type": "code",
   "execution_count": 3,
   "metadata": {},
   "outputs": [
    {
     "data": {
      "text/html": [
       "<div>\n",
       "<style scoped>\n",
       "    .dataframe tbody tr th:only-of-type {\n",
       "        vertical-align: middle;\n",
       "    }\n",
       "\n",
       "    .dataframe tbody tr th {\n",
       "        vertical-align: top;\n",
       "    }\n",
       "\n",
       "    .dataframe thead th {\n",
       "        text-align: right;\n",
       "    }\n",
       "</style>\n",
       "<table border=\"1\" class=\"dataframe\">\n",
       "  <thead>\n",
       "    <tr style=\"text-align: right;\">\n",
       "      <th></th>\n",
       "      <th>rel_path</th>\n",
       "      <th>img_name</th>\n",
       "      <th>label</th>\n",
       "      <th>path</th>\n",
       "      <th>cell_size</th>\n",
       "      <th>cell_shape</th>\n",
       "      <th>nucleus_shape</th>\n",
       "      <th>nuclear_cytoplasmic_ratio</th>\n",
       "      <th>chromatin_density</th>\n",
       "      <th>cytoplasm_vacuole</th>\n",
       "      <th>cytoplasm_texture</th>\n",
       "      <th>cytoplasm_colour</th>\n",
       "      <th>granule_type</th>\n",
       "      <th>granule_colour</th>\n",
       "      <th>granularity</th>\n",
       "    </tr>\n",
       "  </thead>\n",
       "  <tbody>\n",
       "    <tr>\n",
       "      <th>17590</th>\n",
       "      <td>PBC_dataset_normal_DIB/neutrophil/SNE_394622.jpg</td>\n",
       "      <td>SNE_394622</td>\n",
       "      <td>neutrophil</td>\n",
       "      <td>D:/Drive/Data/Hematology\\PBC_dataset_normal_DI...</td>\n",
       "      <td>big</td>\n",
       "      <td>round</td>\n",
       "      <td>segmented-bilobed</td>\n",
       "      <td>low</td>\n",
       "      <td>densely</td>\n",
       "      <td>no</td>\n",
       "      <td>clear</td>\n",
       "      <td>light blue</td>\n",
       "      <td>small</td>\n",
       "      <td>pink</td>\n",
       "      <td>yes</td>\n",
       "    </tr>\n",
       "  </tbody>\n",
       "</table>\n",
       "</div>"
      ],
      "text/plain": [
       "                                               rel_path    img_name  \\\n",
       "17590  PBC_dataset_normal_DIB/neutrophil/SNE_394622.jpg  SNE_394622   \n",
       "\n",
       "            label                                               path  \\\n",
       "17590  neutrophil  D:/Drive/Data/Hematology\\PBC_dataset_normal_DI...   \n",
       "\n",
       "      cell_size cell_shape      nucleus_shape nuclear_cytoplasmic_ratio  \\\n",
       "17590       big      round  segmented-bilobed                       low   \n",
       "\n",
       "      chromatin_density cytoplasm_vacuole cytoplasm_texture cytoplasm_colour  \\\n",
       "17590           densely                no             clear       light blue   \n",
       "\n",
       "      granule_type granule_colour granularity  \n",
       "17590        small           pink         yes  "
      ]
     },
     "execution_count": 3,
     "metadata": {},
     "output_type": "execute_result"
    }
   ],
   "source": [
    "from model.loader import Loader\n",
    "\n",
    "train_df = loader.train_df\n",
    "val_df = loader.val_df\n",
    "csv_path = os.path.join(gs.get('data_folder'), 'wbcatt', 'pbc_attr_v1.csv')\n",
    "train_df, val_df = Loader.load_morph(train_df, val_df, csv_path, columns=None)\n",
    "train_df.head(1)"
   ]
  },
  {
   "cell_type": "code",
   "execution_count": 4,
   "metadata": {},
   "outputs": [
    {
     "name": "stdout",
     "output_type": "stream",
     "text": [
      "7379\n",
      "1869\n"
     ]
    }
   ],
   "source": [
    "# count of non null rows\n",
    "print(train_df['cell_size'].count())\n",
    "print(val_df['cell_size'].count())"
   ]
  }
 ],
 "metadata": {
  "kernelspec": {
   "display_name": "EfficientNet",
   "language": "python",
   "name": "python3"
  },
  "language_info": {
   "codemirror_mode": {
    "name": "ipython",
    "version": 3
   },
   "file_extension": ".py",
   "mimetype": "text/x-python",
   "name": "python",
   "nbconvert_exporter": "python",
   "pygments_lexer": "ipython3",
   "version": "3.10.12"
  }
 },
 "nbformat": 4,
 "nbformat_minor": 2
}
