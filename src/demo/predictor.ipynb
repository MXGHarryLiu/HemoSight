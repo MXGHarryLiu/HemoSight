{
 "cells": [
  {
   "cell_type": "code",
   "execution_count": 2,
   "metadata": {},
   "outputs": [
    {
     "name": "stdout",
     "output_type": "stream",
     "text": [
      "Debug mode is off. Using settings.json.\n",
      "Debug mode is on. Using settings_ThinkPadP16.json.\n",
      "Imported embedding from D:/Drive/Project/Hematology/derived\\20240607000000_AdamDO0.2D0FzBn\\embedding_weights_e30_final.h5\n",
      "Fitted label classifier with 16591 samples.\n"
     ]
    }
   ],
   "source": [
    "import sys\n",
    "sys.path.append('../')\n",
    "from core.derived import create_predictor\n",
    "\n",
    "# enable debug mode\n",
    "from core.util import GlobalSettings\n",
    "gs = GlobalSettings()\n",
    "gs.debug = True\n",
    "\n",
    "# load model config\n",
    "run = '20240607000000'\n",
    "model = 'weights_e30_final_001'\n",
    "predictor = create_predictor(run, model)"
   ]
  },
  {
   "cell_type": "code",
   "execution_count": 3,
   "metadata": {},
   "outputs": [
    {
     "name": "stdout",
     "output_type": "stream",
     "text": [
      "1/1 [==============================] - 8s 8s/step\n",
      "(1280,)\n"
     ]
    }
   ],
   "source": [
    "import os\n",
    "from PIL import Image\n",
    "\n",
    "# load image\n",
    "file = os.path.join(gs.get('data_folder'), 'PBC_dataset_normal_DIB\\lymphocyte\\LY_392666.jpg')\n",
    "# compute features\n",
    "features = predictor.get_feature(file)\n",
    "print(features.shape)"
   ]
  },
  {
   "cell_type": "code",
   "execution_count": 4,
   "metadata": {},
   "outputs": [
    {
     "name": "stdout",
     "output_type": "stream",
     "text": [
      "1/1 [==============================] - 0s 21ms/step\n",
      "lymphocyte\n"
     ]
    }
   ],
   "source": [
    "y_pred_label, y_pred_code = predictor.predict(file)\n",
    "print(y_pred_label)"
   ]
  },
  {
   "cell_type": "code",
   "execution_count": 5,
   "metadata": {},
   "outputs": [
    {
     "name": "stdout",
     "output_type": "stream",
     "text": [
      "1/1 [==============================] - 0s 22ms/step\n",
      "['lymphocyte', 'basophil', 'monocyte', 'erythroblast', 'platelet', 'ig', 'neutrophil', 'eosinophil', 'blast']\n",
      "[0.9952147403530458, 0.002269279902900542, 0.0010451136778836113, 0.00045702377111632577, 0.00036362305923974867, 0.00033751215124323044, 0.00013978196169513158, 0.00011591736364020423, 5.7007759235736324e-05]\n"
     ]
    }
   ],
   "source": [
    "y_pred_label, y_pred_code, prob, tsne_embedding_query = predictor.predict_and_reference(file)\n",
    "print(y_pred_label)\n",
    "print(prob)"
   ]
  },
  {
   "cell_type": "code",
   "execution_count": 6,
   "metadata": {},
   "outputs": [
    {
     "name": "stdout",
     "output_type": "stream",
     "text": [
      "Split 23044 images to 20739 train and 2305 test images\n",
      "Split 20739 images to 16591 train and 4148 validation images\n",
      "1/1 [==============================] - 0s 292ms/step\n",
      "['blast', 'neutrophil']\n",
      "[1 7]\n",
      "[1 7]\n"
     ]
    }
   ],
   "source": [
    "from model.loader import load_loader\n",
    "\n",
    "opt = {'file_list': os.path.join(gs.get('data_folder'), '20230926_DIB.csv'), \n",
    "       'split_seed': 0, \n",
    "       'test_ratio': 0.1, \n",
    "       'kfold': 5, \n",
    "       'i_kfold': 2}\n",
    "loader = load_loader(opt)\n",
    "test_df = loader.test_df\n",
    "predictor.set_test(test_df)\n",
    "predictor.val_index = predictor._test_df.index[[0,1]]\n",
    "predictor.compute_feature()\n",
    "y_pred_code, y_true_code = predictor.validate(category='label')\n",
    "print(test_df.iloc[[0,1]]['label'].tolist())\n",
    "print(y_true_code)\n",
    "print(y_pred_code)"
   ]
  },
  {
   "cell_type": "markdown",
   "metadata": {},
   "source": [
    "Supervised"
   ]
  },
  {
   "cell_type": "code",
   "execution_count": 5,
   "metadata": {},
   "outputs": [
    {
     "name": "stdout",
     "output_type": "stream",
     "text": [
      "Debug mode is off. Using settings.json.\n",
      "Debug mode is on. Using settings_ThinkPadP16.json.\n",
      "Split 23044 images to 20739 train and 2305 test images\n",
      "Split 20739 images to 16591 train and 4148 validation images\n"
     ]
    }
   ],
   "source": [
    "import sys\n",
    "sys.path.append('../')\n",
    "import os\n",
    "# enable debug mode\n",
    "from core.util import GlobalSettings\n",
    "gs = GlobalSettings()\n",
    "gs.debug = True\n",
    "from model.loader import load_loader\n",
    "\n",
    "opt = {'file_list': os.path.join(gs.get('data_folder'), '20230926_DIB.csv'), \n",
    "       'split_seed': 0, \n",
    "       'test_ratio': 0.1, \n",
    "       'kfold': 5, \n",
    "       'i_kfold': 2}\n",
    "loader = load_loader(opt)\n",
    "train_df = loader.train_df\n",
    "val_df = loader.val_df"
   ]
  },
  {
   "cell_type": "code",
   "execution_count": 6,
   "metadata": {},
   "outputs": [],
   "source": [
    "import core.derived\n",
    "from model.predictor import SiamesePredictor\n",
    "from model.model import load_model\n",
    "\n",
    "run = '20240530152917'\n",
    "model = 'weights_e30_final_001'\n",
    "\n",
    "opt = core.derived.get_run_config(run)\n",
    "model_opt = opt['model']\n",
    "model_class = load_model(model_opt)\n",
    "\n",
    "predictor = SiamesePredictor(model=model_class,\n",
    "                            train=train_df, \n",
    "                            test=val_df, \n",
    "                            support_index=None, \n",
    "                            val_index=val_df.index.values)"
   ]
  },
  {
   "cell_type": "code",
   "execution_count": 7,
   "metadata": {},
   "outputs": [
    {
     "name": "stdout",
     "output_type": "stream",
     "text": [
      "519/519 [==============================] - 20s 25ms/step\n",
      "130/130 [==============================] - 3s 26ms/step\n"
     ]
    }
   ],
   "source": [
    "predictor.support_index = train_df.index.tolist()\n",
    "predictor.compute_feature()"
   ]
  },
  {
   "cell_type": "code",
   "execution_count": 8,
   "metadata": {},
   "outputs": [
    {
     "name": "stdout",
     "output_type": "stream",
     "text": [
      "Fitted label classifier with 16591 samples.\n"
     ]
    }
   ],
   "source": [
    "from sklearn.pipeline import make_pipeline\n",
    "from sklearn.preprocessing import StandardScaler\n",
    "from sklearn.svm import SVC\n",
    "\n",
    "category = 'label'\n",
    "pipeline = make_pipeline(StandardScaler(), \n",
    "                        SVC(kernel=opt.get('kernel', 'linear'),\n",
    "                            C=opt.get('C', 1.0),\n",
    "                            decision_function_shape='ovr',\n",
    "                            probability=True, \n",
    "                            random_state=0))\n",
    "predictor.set_classifier(pipeline, category)\n",
    "predictor.fit(category)\n",
    "y_pred_code, y_true_code = predictor.validate(category)"
   ]
  },
  {
   "cell_type": "code",
   "execution_count": null,
   "metadata": {},
   "outputs": [],
   "source": [
    "from core.derived import create_predictor\n",
    "\n",
    "# load model config\n",
    "run = '20240530152917'\n",
    "model = 'weights_e30_final_001'\n",
    "predictor = create_predictor(run, model)"
   ]
  }
 ],
 "metadata": {
  "kernelspec": {
   "display_name": "EfficientNet",
   "language": "python",
   "name": "python3"
  },
  "language_info": {
   "codemirror_mode": {
    "name": "ipython",
    "version": 3
   },
   "file_extension": ".py",
   "mimetype": "text/x-python",
   "name": "python",
   "nbconvert_exporter": "python",
   "pygments_lexer": "ipython3",
   "version": "3.10.12"
  }
 },
 "nbformat": 4,
 "nbformat_minor": 2
}
