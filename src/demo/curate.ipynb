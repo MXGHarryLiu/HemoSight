{
 "cells": [
  {
   "cell_type": "code",
   "execution_count": 2,
   "metadata": {},
   "outputs": [
    {
     "name": "stdout",
     "output_type": "stream",
     "text": [
      "Debug mode is on. Using settings_ThinkPadP16.json.\n"
     ]
    }
   ],
   "source": [
    "import sys\n",
    "sys.path.append('../')\n",
    "import os\n",
    "from model.curate import Curator\n",
    "from core.util import GlobalSettings\n",
    "\n",
    "gs = GlobalSettings()\n",
    "gs.debug = True\n",
    "\n",
    "root_folder = gs.get('data_folder')\n",
    "curator = Curator(root_folder)"
   ]
  },
  {
   "cell_type": "markdown",
   "metadata": {},
   "source": [
    "20230910"
   ]
  },
  {
   "cell_type": "code",
   "execution_count": 9,
   "metadata": {},
   "outputs": [
    {
     "name": "stdout",
     "output_type": "stream",
     "text": [
      "Loaded 3939 files in 8 classes: \n",
      "label\n",
      "basophil           14\n",
      "blast             725\n",
      "eosinophil         62\n",
      "lymphocyte        800\n",
      "metamyelocyte       8\n",
      "monocyte          724\n",
      "myelocyte          10\n",
      "neutrophil       1596\n",
      "Name: count, dtype: int64\n"
     ]
    }
   ],
   "source": [
    "name = '20230910'\n",
    "df = curator.load_data(name=name)\n",
    "# export to csv\n",
    "csv_file = os.path.join(root_folder, name + '.csv')\n",
    "df.to_csv(csv_file, index=False)"
   ]
  },
  {
   "cell_type": "markdown",
   "metadata": {},
   "source": [
    "DIB"
   ]
  },
  {
   "cell_type": "code",
   "execution_count": 3,
   "metadata": {},
   "outputs": [
    {
     "name": "stdout",
     "output_type": "stream",
     "text": [
      "Loaded 17092 files in 8 classes. \n",
      "label\n",
      "basophil        1218\n",
      "eosinophil      3117\n",
      "erythroblast    1551\n",
      "ig              2895\n",
      "lymphocyte      1214\n",
      "monocyte        1420\n",
      "neutrophil      3329\n",
      "platelet        2348\n",
      "Name: count, dtype: int64\n"
     ]
    }
   ],
   "source": [
    "name = 'DIB'\n",
    "df = curator.load_data(name='PBC_dataset_normal_DIB')\n",
    "# export to csv\n",
    "csv_file = os.path.join(root_folder, name + '.csv')\n",
    "df.to_csv(csv_file, index=False)"
   ]
  },
  {
   "cell_type": "markdown",
   "metadata": {},
   "source": [
    "20230910 with DIB"
   ]
  },
  {
   "cell_type": "code",
   "execution_count": 3,
   "metadata": {},
   "outputs": [
    {
     "name": "stdout",
     "output_type": "stream",
     "text": [
      "Loaded 3939 files in 7 classes: \n",
      "label\n",
      "basophil        14\n",
      "blast          725\n",
      "eosinophil      62\n",
      "ig              18\n",
      "lymphocyte     800\n",
      "monocyte       724\n",
      "neutrophil    1596\n",
      "Name: count, dtype: int64\n",
      "Loaded 17092 files in 8 classes: \n",
      "label\n",
      "basophil        1218\n",
      "eosinophil      3117\n",
      "erythroblast    1551\n",
      "ig              2895\n",
      "lymphocyte      1214\n",
      "monocyte        1420\n",
      "neutrophil      3329\n",
      "platelet        2348\n",
      "Name: count, dtype: int64\n",
      "Merge 2 datasets: total 21031 files in 9 classes: \n",
      "label\n",
      "basophil        1232\n",
      "blast            725\n",
      "eosinophil      3179\n",
      "erythroblast    1551\n",
      "ig              2913\n",
      "lymphocyte      2014\n",
      "monocyte        2144\n",
      "neutrophil      4925\n",
      "platelet        2348\n",
      "Name: count, dtype: int64\n"
     ]
    }
   ],
   "source": [
    "df1 = curator.load_data(name='20230910', mapping={\n",
    "                            'metamyelocyte': 'ig',\n",
    "                            'myelocyte': 'ig'\n",
    "                        })\n",
    "df2 = curator.load_data(name='PBC_dataset_normal_DIB')\n",
    "df = curator.merge_data([df1, df2])\n",
    "# export to csv\n",
    "csv_file = os.path.join(root_folder, '20230910_DIB.csv')\n",
    "df.to_csv(csv_file, index=False)"
   ]
  },
  {
   "cell_type": "markdown",
   "metadata": {},
   "source": [
    "2023926 with DIB"
   ]
  },
  {
   "cell_type": "code",
   "execution_count": 2,
   "metadata": {},
   "outputs": [
    {
     "name": "stdout",
     "output_type": "stream",
     "text": [
      "Loaded 3939 files in 7 classes. \n",
      "label\n",
      "basophil        14\n",
      "blast          725\n",
      "eosinophil      62\n",
      "ig              18\n",
      "lymphocyte     800\n",
      "monocyte       724\n",
      "neutrophil    1596\n",
      "Name: count, dtype: int64\n",
      "Loaded 17092 files in 8 classes. \n",
      "label\n",
      "basophil        1218\n",
      "eosinophil      3117\n",
      "erythroblast    1551\n",
      "ig              2895\n",
      "lymphocyte      1214\n",
      "monocyte        1420\n",
      "neutrophil      3329\n",
      "platelet        2348\n",
      "Name: count, dtype: int64\n",
      "Loaded 2013 files in 1 classes. \n",
      "label\n",
      "blast    2013\n",
      "Name: count, dtype: int64\n",
      "Merge 3 datasets: total 23044 files in 9 classes. \n",
      "label\n",
      "basophil        1232\n",
      "blast           2738\n",
      "eosinophil      3179\n",
      "erythroblast    1551\n",
      "ig              2913\n",
      "lymphocyte      2014\n",
      "monocyte        2144\n",
      "neutrophil      4925\n",
      "platelet        2348\n",
      "Name: count, dtype: int64\n"
     ]
    }
   ],
   "source": [
    "df1 = curator.load_data(name='20230910', mapping={\n",
    "                            'metamyelocyte': 'ig',\n",
    "                            'myelocyte': 'ig'\n",
    "                        })\n",
    "df2 = curator.load_data(name='PBC_dataset_normal_DIB')\n",
    "df3 = curator.load_data(name='20230926')\n",
    "df = curator.merge_data([df1, df2, df3])\n",
    "# export to csv\n",
    "csv_file = os.path.join(root_folder, '20230926_DIB.csv')\n",
    "df.to_csv(csv_file, index=False)"
   ]
  },
  {
   "cell_type": "markdown",
   "metadata": {},
   "source": [
    "20240520 (CellaVision Labels)"
   ]
  },
  {
   "cell_type": "code",
   "execution_count": 5,
   "metadata": {},
   "outputs": [
    {
     "name": "stdout",
     "output_type": "stream",
     "text": [
      "Loaded 5583 files in 7 classes. \n",
      "label\n",
      "basophil        10\n",
      "blast         2298\n",
      "eosinophil      62\n",
      "ig              12\n",
      "lymphocyte     873\n",
      "monocyte       783\n",
      "neutrophil    1545\n",
      "Name: count, dtype: int64\n"
     ]
    }
   ],
   "source": [
    "df = curator.load_data(name='20240520', mapping={\n",
    "                            'metamyelocyte': 'ig',\n",
    "                            'myelocyte': 'ig'\n",
    "                        })\n",
    "# export to csv\n",
    "csv_file = os.path.join(root_folder, '20240520_CellaVision.csv')\n",
    "df.to_csv(csv_file, index=False)"
   ]
  }
 ],
 "metadata": {
  "kernelspec": {
   "display_name": "EfficientNet",
   "language": "python",
   "name": "python3"
  },
  "language_info": {
   "codemirror_mode": {
    "name": "ipython",
    "version": 3
   },
   "file_extension": ".py",
   "mimetype": "text/x-python",
   "name": "python",
   "nbconvert_exporter": "python",
   "pygments_lexer": "ipython3",
   "version": "3.10.12"
  }
 },
 "nbformat": 4,
 "nbformat_minor": 2
}
