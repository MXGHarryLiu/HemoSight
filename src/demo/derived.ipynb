{
 "cells": [
  {
   "cell_type": "code",
   "execution_count": 2,
   "metadata": {},
   "outputs": [
    {
     "name": "stdout",
     "output_type": "stream",
     "text": [
      "Debug mode is off. Using settings.json.\n",
      "Debug mode is on. Using settings_ThinkPadP16.json.\n"
     ]
    }
   ],
   "source": [
    "import sys\n",
    "sys.path.append('../')\n",
    "import core.derived\n",
    "from core.util import GlobalSettings\n",
    "\n",
    "gs = GlobalSettings()\n",
    "gs.debug = True"
   ]
  },
  {
   "cell_type": "code",
   "execution_count": 3,
   "metadata": {},
   "outputs": [
    {
     "name": "stdout",
     "output_type": "stream",
     "text": [
      "20240520100000 20240520100000_Adam0.0001\n"
     ]
    }
   ],
   "source": [
    "run, run_folder =  core.derived.validate_run('20240520100000')\n",
    "print(run, run_folder)"
   ]
  },
  {
   "cell_type": "code",
   "execution_count": 3,
   "metadata": {},
   "outputs": [
    {
     "name": "stdout",
     "output_type": "stream",
     "text": [
      "20240520100000 weights_e30_final_001\n",
      "20240520100000_Adam0.0001\\weights_e30_final_001\n"
     ]
    }
   ],
   "source": [
    "run, model, model_path = core.derived.validate_model('20240520100000', 'weights_e30_final_001')\n",
    "print(run, model)\n",
    "print(model_path)"
   ]
  },
  {
   "cell_type": "code",
   "execution_count": 5,
   "metadata": {},
   "outputs": [
    {
     "name": "stdout",
     "output_type": "stream",
     "text": [
      "('20240520100000', '20240520100001', '20240520100002', '20240520100003', '20240520100004', '20240520100005', '20240520100010', '20240520110000', '20240521000000', '20240521000001', '20240521000004', '20240521193250', '20240521195639', '20240521203514', '20240521203516', '20240521203519', '20240521203521', '20240521203524')\n",
      "('20240520100000_Adam0.0001', '20240520100001', '20240520100002', '20240520100003', '20240520100004', '20240520100005', '20240520100010', '20240520110000', '20240521000000', '20240521000001', '20240521000004', '20240521193250', '20240521195639', '20240521203514', '20240521203516', '20240521203519', '20240521203521', '20240521203524')\n"
     ]
    }
   ],
   "source": [
    "runs, run_folders = core.derived.get_run()\n",
    "print(runs)\n",
    "print(run_folders)"
   ]
  },
  {
   "cell_type": "code",
   "execution_count": 6,
   "metadata": {},
   "outputs": [
    {
     "name": "stdout",
     "output_type": "stream",
     "text": [
      "['weights_e30_final_001', 'weights_e30_final_002', 'weights_e30_final_003']\n"
     ]
    }
   ],
   "source": [
    "model_folders = core.derived.get_model('20240520100000')\n",
    "print(model_folders)"
   ]
  },
  {
   "cell_type": "code",
   "execution_count": 7,
   "metadata": {},
   "outputs": [
    {
     "name": "stdout",
     "output_type": "stream",
     "text": [
      "weights_e30_best.h5\n"
     ]
    }
   ],
   "source": [
    "model_file = core.derived.get_default_model_file('20240520100000', strategy='Best')\n",
    "print(model_file)"
   ]
  },
  {
   "cell_type": "code",
   "execution_count": 8,
   "metadata": {},
   "outputs": [
    {
     "name": "stdout",
     "output_type": "stream",
     "text": [
      "weights_e30_final_001\n"
     ]
    }
   ],
   "source": [
    "model = core.derived.get_default_model('20240520100005', strategy='Final')\n",
    "print(model)"
   ]
  },
  {
   "cell_type": "code",
   "execution_count": 9,
   "metadata": {},
   "outputs": [
    {
     "name": "stdout",
     "output_type": "stream",
     "text": [
      "{'loader': {'file_list': '20230926_DIB.csv', 'split_seed': 0, 'test_ratio': 0.1, 'kfold': 5, 'i_kfold': 0}, 'generator': {'name': 'siameseonline', 'batch_size': 100, 'supervised': False, 'img_width': 224, 'img_height': 224}, 'model': {'name': 'siamese', 'encoder_name': 'efficientnetv2b0', 'batch_size': 100, 'weights': '', 'optimizer': {'name': 'Adam', 'learning_rate': 0.0001}, 'loss': {'name': 'tripletsemihard', 'margin': 0.5}, 'epoch': 30}}\n"
     ]
    }
   ],
   "source": [
    "cfg = core.derived.get_run_config('20240520100000')\n",
    "print(cfg)"
   ]
  },
  {
   "cell_type": "code",
   "execution_count": 10,
   "metadata": {},
   "outputs": [
    {
     "name": "stdout",
     "output_type": "stream",
     "text": [
      "{'note': '', 'categories': ['label', 'cell_size', 'cell_shape', 'nucleus_shape', 'nuclear_cytoplasmic_ratio', 'chromatin_density', 'cytoplasm_vacuole', 'cytoplasm_texture', 'cytoplasm_colour', 'granule_type', 'granule_colour', 'granularity'], 'classifier': {'name': 'SVC'}, 'support': {'n': [90, 180, 450, 900, 1800, 4500, 9000, None], 'sampling': 'stratified', 'active_learning': {'mode': 'off'}}}\n"
     ]
    }
   ],
   "source": [
    "cfg = core.derived.get_model_config('20240520100000', 'weights_e30_final_001')\n",
    "print(cfg)"
   ]
  },
  {
   "cell_type": "code",
   "execution_count": 11,
   "metadata": {},
   "outputs": [
    {
     "name": "stdout",
     "output_type": "stream",
     "text": [
      "['20240520100000', '20240520100001', '20240520100002', '20240520100003', '20240520100004', '20240520100005', '20240520100010', '20240521000000', '20240521000001', '20240521000004', '20240521193250', '20240521195639']\n"
     ]
    }
   ],
   "source": [
    "# query when model/optimizer/name == \"Adam\"\n",
    "matched_runs = core.derived.query_run(\"model.optimizer.name =='Adam'\")\n",
    "print(matched_runs)"
   ]
  }
 ],
 "metadata": {
  "kernelspec": {
   "display_name": "EfficientNet",
   "language": "python",
   "name": "python3"
  },
  "language_info": {
   "codemirror_mode": {
    "name": "ipython",
    "version": 3
   },
   "file_extension": ".py",
   "mimetype": "text/x-python",
   "name": "python",
   "nbconvert_exporter": "python",
   "pygments_lexer": "ipython3",
   "version": "3.10.12"
  }
 },
 "nbformat": 4,
 "nbformat_minor": 2
}
